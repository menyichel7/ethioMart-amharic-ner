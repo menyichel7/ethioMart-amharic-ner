{
 "cells": [
  {
   "cell_type": "code",
   "execution_count": 1,
   "id": "3fc72b86",
   "metadata": {},
   "outputs": [
    {
     "name": "stdout",
     "output_type": "stream",
     "text": [
      "CoNLL-formatted file saved to: ../labeled/telegram_conll_sample.txt\n"
     ]
    }
   ],
   "source": [
    "import pandas as pd\n",
    "import os\n",
    "import random\n",
    "\n",
    "# Load cleaned and tokenized data\n",
    "df = pd.read_csv(\"../processed/telegram_cleaned.csv\")\n",
    "\n",
    "# Drop rows with empty tokens\n",
    "df = df[df[\"tokens\"].notnull()]\n",
    "\n",
    "# Step 1: Sample 40 messages for labeling\n",
    "sample_size = 40\n",
    "sample_df = df.sample(n=sample_size, random_state=42)\n",
    "\n",
    "# Step 2: Convert tokens into CoNLL format with 'O' label\n",
    "conll_lines = []\n",
    "\n",
    "for tokens in sample_df[\"tokens\"]:\n",
    "    # Tokens are stored as strings of list form: \"['token1', 'token2']\"\n",
    "    token_list = eval(tokens) if isinstance(tokens, str) else tokens\n",
    "\n",
    "    for token in token_list:\n",
    "        conll_lines.append(f\"{token} O\")\n",
    "    conll_lines.append(\"\")  # Blank line between messages\n",
    "\n",
    "# Step 3: Save to a CoNLL-formatted .txt file\n",
    "os.makedirs(\"../labeled\", exist_ok=True)\n",
    "output_path = \"../labeled/telegram_conll_sample.txt\"\n",
    "\n",
    "with open(output_path, \"w\", encoding=\"utf-8\") as f:\n",
    "    f.write(\"\\n\".join(conll_lines))\n",
    "\n",
    "print(f\"CoNLL-formatted file saved to: {output_path}\")\n"
   ]
  }
 ],
 "metadata": {
  "kernelspec": {
   "display_name": "venv",
   "language": "python",
   "name": "python3"
  },
  "language_info": {
   "codemirror_mode": {
    "name": "ipython",
    "version": 3
   },
   "file_extension": ".py",
   "mimetype": "text/x-python",
   "name": "python",
   "nbconvert_exporter": "python",
   "pygments_lexer": "ipython3",
   "version": "3.11.2"
  }
 },
 "nbformat": 4,
 "nbformat_minor": 5
}
