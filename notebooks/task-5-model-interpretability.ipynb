{
 "cells": [
  {
   "cell_type": "code",
   "execution_count": null,
   "id": "7e3057a0",
   "metadata": {},
   "outputs": [],
   "source": [
    "# task_5_model_interpretability\n",
    "\n",
    "import shap\n",
    "import torch\n",
    "from transformers import AutoModelForTokenClassification, AutoTokenizer\n",
    "\n",
    "# Load fine-tuned model and tokenizer\n",
    "model = AutoModelForTokenClassification.from_pretrained(\"xlm-roberta-base\")\n",
    "tokenizer = AutoTokenizer.from_pretrained(\"xlm-roberta-base\")\n",
    "\n",
    "# Sample Amharic sentence\n",
    "sentence = \"ኢትዮጵያ አዲስ ቴክኖሎጂ እየተንዳበች ናት።\"\n",
    "tokens = tokenizer(sentence, return_tensors=\"pt\")\n",
    "\n",
    "# Use SHAP to interpret predictions\n",
    "def f(x):\n",
    "    with torch.no_grad():\n",
    "        outputs = model(**tokenizer(x, return_tensors=\"pt\", padding=True, truncation=True))\n",
    "        return outputs.logits.detach().numpy()\n",
    "\n",
    "explainer = shap.Explainer(f, tokenizer)\n",
    "shap_values = explainer([sentence])\n",
    "\n",
    "# Visualize results\n",
    "shap.plots.text(shap_values[0])\n"
   ]
  }
 ],
 "metadata": {
  "language_info": {
   "name": "python"
  }
 },
 "nbformat": 4,
 "nbformat_minor": 5
}
