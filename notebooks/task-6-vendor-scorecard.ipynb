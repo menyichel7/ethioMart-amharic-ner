{
 "cells": [
  {
   "cell_type": "code",
   "execution_count": null,
   "id": "71438d88",
   "metadata": {},
   "outputs": [],
   "source": [
    "# task_6_vendor_scorecard.py\n",
    "\n",
    "import pandas as pd\n",
    "import numpy as np\n",
    "from datetime import datetime\n",
    "\n",
    "# Load Telegram vendor posts data\n",
    "posts_df = pd.read_csv(\"vendor_posts.csv\") \n",
    "\n",
    "# Load NER-extracted data (product name, price, etc.)\n",
    "entities_df = pd.read_csv(\"ner_extracted_entities.csv\")  \n",
    "\n",
    "# Merge post metadata and NER results\n",
    "merged_df = posts_df.merge(entities_df, on=\"vendor_id\")\n",
    "\n",
    "# Convert timestamp to datetime\n",
    "merged_df['timestamp'] = pd.to_datetime(merged_df['timestamp'])\n",
    "\n",
    "# Calculate weekly posting frequency\n",
    "merged_df['week'] = merged_df['timestamp'].dt.isocalendar().week\n",
    "\n",
    "vendor_scores = []\n",
    "for vendor_id, group in merged_df.groupby(\"vendor_id\"):\n",
    "    posts_per_week = group.groupby(\"week\").size().mean()\n",
    "    avg_views = group['views'].mean()\n",
    "    avg_price = group['price'].mean()\n",
    "    top_post = group.loc[group['views'].idxmax()]\n",
    "\n",
    "    lending_score = (avg_views * 0.5) + (posts_per_week * 0.5)\n",
    "\n",
    "    vendor_scores.append({\n",
    "        \"vendor_id\": vendor_id,\n",
    "        \"Avg. Views/Post\": round(avg_views, 2),\n",
    "        \"Posts/Week\": round(posts_per_week, 2),\n",
    "        \"Avg. Price (ETB)\": round(avg_price, 2),\n",
    "        \"Top Product\": top_post['product'],\n",
    "        \"Top Price\": top_post['price'],\n",
    "        \"Lending Score\": round(lending_score, 2)\n",
    "    })\n",
    "\n",
    "scorecard_df = pd.DataFrame(vendor_scores)\n",
    "scorecard_df = scorecard_df.sort_values(\"Lending Score\", ascending=False)\n",
    "\n",
    "# Save final scorecard\n",
    "scorecard_df.to_csv(\"vendor_lending_scorecard.csv\", index=False)\n",
    "print(\"Vendor lending scorecard generated.\")\n"
   ]
  }
 ],
 "metadata": {
  "language_info": {
   "name": "python"
  }
 },
 "nbformat": 4,
 "nbformat_minor": 5
}
